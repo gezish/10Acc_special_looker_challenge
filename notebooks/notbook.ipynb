{
 "cells": [
  {
   "cell_type": "code",
   "execution_count": null,
   "metadata": {},
   "outputs": [],
   "source": []
  }
 ],
 "metadata": {
  "kernelspec": {
   "display_name": "Python 3.9.12 ('pygad': venv)",
   "language": "python",
   "name": "python3"
  },
  "language_info": {
   "name": "python",
   "version": "3.9.12"
  },
  "orig_nbformat": 4,
  "vscode": {
   "interpreter": {
    "hash": "788c12540f745c14eec8ce67c759aec3a85713d98da6e91b3057a6e94ea13b10"
   }
  }
 },
 "nbformat": 4,
 "nbformat_minor": 2
}
